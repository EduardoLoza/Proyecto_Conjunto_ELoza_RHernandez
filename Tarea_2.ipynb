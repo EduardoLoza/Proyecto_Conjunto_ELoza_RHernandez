{
 "cells": [
  {
   "cell_type": "markdown",
   "metadata": {},
   "source": [
    "<img style=\"float: left; margin: 30px 15px 15px 15px;\" src=\"https://pngimage.net/wp-content/uploads/2018/06/logo-iteso-png-5.png\" width=\"300\" height=\"500\" /> \n",
    "    \n",
    "    \n",
    "### <font color='navy'> Simulación de procesos financieros. \n",
    "\n",
    "**Nombres:** Eduardo Loza de la Torre y Ruben Hernández Guevara.\n",
    "\n",
    "**Fecha:** 5 de febrero del 2021.\n",
    "\n",
    "**Expediente** : 713423 \n",
    "**Profesor:** Oscar David Jaramillo Zuluaga.\n",
    "\n",
    "# Tarea 2: Clase 4\n",
    "https://github.com/EduardoLoza/Proyecto_Conjunto_ELoza_RHernandez"
   ]
  },
  {
   "cell_type": "markdown",
   "metadata": {},
   "source": [
    "# Tarea 2:\n",
    "\n",
    "1. Imagine una rutina contable utilizada en una librería. Funciona en una lista con sublistas, que se ven así:\n",
    "![imagen.png](attachment:imagen.png)\n",
    "Escriba un programa en Python, que devuelve una lista con tuplas de tamaño 2. Cada tupla consiste en el número de pedido y el costo total del pedido. El producto debe aumentarse en 10€ si el valor de la orden es inferior a 100,00 €. \n",
    "Escribe un programa Python usando unicamente las funciones **lambda y map**.\n",
    "\n",
    "`orders = [ [\"34587\", \"Learning Python, Mark Lutz\", 4, 40.95], \n",
    "           [\"98762\", \"Programming Python, Mark Lutz\", 5, 56.80], \n",
    "           [\"77226\", \"Head First Python, Paul Barry\", 3,32.95],\n",
    "           [\"88112\", \"Einführung in Python3, Bernd Klein\", 3, 24.99]]`\n",
    "           "
   ]
  },
  {
   "cell_type": "code",
   "execution_count": 1,
   "metadata": {},
   "outputs": [],
   "source": [
    "from functools import reduce\n",
    "import numpy as np\n",
    "import pandas as pd\n",
    "from pandas import DataFrame\n",
    "## Solución 1 Eduardo\n",
    "\n"
   ]
  },
  {
   "cell_type": "code",
   "execution_count": null,
   "metadata": {},
   "outputs": [],
   "source": [
    "## Solución 1 Rubén"
   ]
  },
  {
   "cell_type": "markdown",
   "metadata": {},
   "source": [
    "2. La misma librería, pero esta vez trabajamos en una lista diferente. Las sublistas de nuestras listas se ven así: \n",
    "[número de orden, (número de artículo, cantidad, precio por unidad), ... (número de artículo, cantidad, precio por unidad)] \n",
    "\n",
    "`orders = [[1, (\"5464\", 4, 9.99), (\"8274\",18,12.99), (\"9744\", 9, 44.95)], \n",
    "\t       [2, (\"5464\", 9, 9.99), (\"9744\", 9, 44.95)],\n",
    "\t       [3, (\"5464\", 9, 9.99), (\"88112\", 11, 24.99)],\n",
    "           [4, (\"8732\", 7, 11.99), (\"7733\",11,18.99), (\"88112\", 5, 39.95)] ]`\n",
    "\n",
    "Escriba un programa que devuelva una lista de dos tuplas que tengan la información de (número de pedido, cantidad total de pedido). Utilice la función `Reduce`. Recuerde el precio del pedido del producto debe aumentarse en 10€ si el valor de la orden es inferior a 100,00 €.\n",
    "\n"
   ]
  },
  {
   "cell_type": "code",
   "execution_count": null,
   "metadata": {},
   "outputs": [],
   "source": [
    "## Solución 2 Eduardo"
   ]
  },
  {
   "cell_type": "code",
   "execution_count": null,
   "metadata": {},
   "outputs": [],
   "source": [
    "## Solución 2 Ruben"
   ]
  },
  {
   "cell_type": "markdown",
   "metadata": {},
   "source": [
    "3. Resolver los anteriores ejercicios usando pandas (DataFrame)"
   ]
  },
  {
   "cell_type": "code",
   "execution_count": null,
   "metadata": {},
   "outputs": [],
   "source": [
    "## Solución 3 Eduardo"
   ]
  },
  {
   "cell_type": "code",
   "execution_count": null,
   "metadata": {},
   "outputs": [],
   "source": [
    "## Solución 3 Rubén"
   ]
  },
  {
   "cell_type": "markdown",
   "metadata": {},
   "source": [
    "4. Use filter to eliminate all words that are shorter than 4 letters from a list of words\n",
    "`list='the notion of a lambda function goes all the way back to the origin of computer science'`"
   ]
  },
  {
   "cell_type": "code",
   "execution_count": 2,
   "metadata": {},
   "outputs": [
    {
     "name": "stdout",
     "output_type": "stream",
     "text": [
      "['notion', 'lambda', 'function', 'goes', 'back', 'origin', 'computer', 'science']\n"
     ]
    }
   ],
   "source": [
    "## Solución 4 Eduardo\n",
    "# 4 Eduardo\n",
    "lista ='the notion of a lambda function goes all the way back to the origin of computer science'.split()\n",
    "lista\n",
    "\n",
    "res = filter((lambda x: len(x) >= 4), lista)\n",
    "print(list(res))"
   ]
  },
  {
   "cell_type": "code",
   "execution_count": null,
   "metadata": {},
   "outputs": [],
   "source": [
    "## Solución 4 Rubén"
   ]
  },
  {
   "cell_type": "markdown",
   "metadata": {},
   "source": [
    "5. Use filter to determine the percentage of Fahrenheit temperatures in a list are within the range 32 to 80"
   ]
  },
  {
   "cell_type": "code",
   "execution_count": 13,
   "metadata": {},
   "outputs": [
    {
     "name": "stdout",
     "output_type": "stream",
     "text": [
      "[ 97.67567834  95.10572612  41.7826557   86.784643    53.07059856\n",
      "  33.70998209  75.77740793  28.71809676 103.75956294  28.68011603\n",
      "  58.87001419  49.69437772  78.72761477 104.02066314  51.19395895\n",
      "  86.28561416 100.01892581  99.842442    92.48978433  47.80230492\n",
      "  35.6627186   50.60798053  52.01629844  76.23039691 103.1070354\n",
      "  95.60218219 107.45228301  26.25707721  46.81819897  97.55314809]\n",
      "El porcentaje de temperaturas entre 32 y 80 es: 46.67 porciento\n"
     ]
    }
   ],
   "source": [
    "## Solución 5 Eduardo\n",
    "temperatures = np.random.uniform(25,110,30)\n",
    "lista= filter(lambda x:x>=32 and x<=80,temperatures)\n",
    "print(temperatures)\n",
    "print('El porcentaje de temperaturas entre 32 y 80 es: %.2f porciento' %((len(list(lista))/len(temperatures))*100))"
   ]
  },
  {
   "cell_type": "code",
   "execution_count": null,
   "metadata": {},
   "outputs": [],
   "source": [
    "## Solución 5 Rubén"
   ]
  },
  {
   "cell_type": "markdown",
   "metadata": {},
   "source": [
    "6. Use reduce to find the lower left corner (minimum x and minimum y value) for a list of point locations\n",
    "> **Hint**: Explore the command `np.minimum.reduce` [link](https://docs.scipy.org/doc/numpy/reference/generated/numpy.ufunc.reduce.html)"
   ]
  },
  {
   "cell_type": "code",
   "execution_count": 9,
   "metadata": {},
   "outputs": [
    {
     "name": "stdout",
     "output_type": "stream",
     "text": [
      "[[87 60]\n",
      " [78 60]\n",
      " [91  7]\n",
      " [80 86]\n",
      " [40 21]\n",
      " [71 72]\n",
      " [ 8 98]\n",
      " [62  0]\n",
      " [71 43]\n",
      " [95 56]\n",
      " [86 14]\n",
      " [39 58]\n",
      " [38 63]\n",
      " [31 58]\n",
      " [90  5]\n",
      " [86  2]\n",
      " [18 66]\n",
      " [73 93]\n",
      " [14 66]\n",
      " [25 32]\n",
      " [80 24]\n",
      " [37 68]\n",
      " [10 54]\n",
      " [70 25]\n",
      " [36 34]\n",
      " [79  4]\n",
      " [ 7 84]\n",
      " [ 4  3]\n",
      " [66 97]\n",
      " [35 73]]\n"
     ]
    },
    {
     "data": {
      "text/plain": [
       "array([4, 0])"
      ]
     },
     "execution_count": 9,
     "metadata": {},
     "output_type": "execute_result"
    }
   ],
   "source": [
    "point_xy = np.random.randint(0,100,[30,2])\n",
    "print(point_xy)\n",
    "## Solución 6 Eduardo\n",
    "x = np.minimum.reduce(point_xy)\n",
    "x"
   ]
  },
  {
   "cell_type": "code",
   "execution_count": null,
   "metadata": {},
   "outputs": [],
   "source": [
    "## Solución 6 Rubén"
   ]
  }
 ],
 "metadata": {
  "kernelspec": {
   "display_name": "Python 3",
   "language": "python",
   "name": "python3"
  },
  "language_info": {
   "codemirror_mode": {
    "name": "ipython",
    "version": 3
   },
   "file_extension": ".py",
   "mimetype": "text/x-python",
   "name": "python",
   "nbconvert_exporter": "python",
   "pygments_lexer": "ipython3",
   "version": "3.8.3"
  }
 },
 "nbformat": 4,
 "nbformat_minor": 4
}
